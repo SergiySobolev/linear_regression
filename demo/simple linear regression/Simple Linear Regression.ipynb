{
 "cells": [
  {
   "cell_type": "code",
   "execution_count": 54,
   "metadata": {
    "collapsed": true
   },
   "outputs": [],
   "source": [
    "import plotly.graph_objs as go\n",
    "from IPython.display import Markdown as md\n",
    "from plotly.offline import init_notebook_mode, iplot\n",
    "import numpy as np\n",
    "import pandas as pd\n"
   ]
  },
  {
   "cell_type": "code",
   "execution_count": 55,
   "metadata": {},
   "outputs": [
    {
     "data": {
      "text/html": [
       "<script type=\"text/javascript\">window.PlotlyConfig = {MathJaxConfig: 'local'};</script><script type=\"text/javascript\">if (window.MathJax) {MathJax.Hub.Config({SVG: {font: \"STIX-Web\"}});}</script><script>requirejs.config({paths: { 'plotly': ['https://cdn.plot.ly/plotly-latest.min']},});if(!window._Plotly) {require(['plotly'],function(plotly) {window._Plotly=plotly;});}</script>"
      ],
      "text/plain": [
       "<script type=\"text/javascript\">window.PlotlyConfig = {MathJaxConfig: 'local'};</script><script type=\"text/javascript\">if (window.MathJax) {MathJax.Hub.Config({SVG: {font: \"STIX-Web\"}});}</script><script>requirejs.config({paths: { 'plotly': ['https://cdn.plot.ly/plotly-latest.min']},});if(!window._Plotly) {require(['plotly'],function(plotly) {window._Plotly=plotly;});}</script>"
      ]
     },
     "execution_count": 0,
     "metadata": {},
     "output_type": "execute_result"
    }
   ],
   "source": [
    "init_notebook_mode(connected=True)\n"
   ]
  },
  {
   "cell_type": "code",
   "execution_count": 56,
   "metadata": {},
   "outputs": [],
   "source": [
    "def simple_linear_regression(x,y):\n",
    "    mean_x = np.mean(x)\n",
    "    mean_y = np.mean(y)\n",
    "    theta1 = np.sum((x - mean_x)*(y - mean_y)) / np.sum(np.square(x-mean_x))\n",
    "    theta0 = mean_y - theta1*mean_x\n",
    "    return theta0, theta1\n"
   ]
  },
  {
   "cell_type": "code",
   "execution_count": 57,
   "metadata": {
    "collapsed": true
   },
   "outputs": [],
   "source": [
    "uploaded_data = pd.read_csv('https://raw.githubusercontent.com/SergiySobolev/linear_regression/master/data/student_scores.csv')\n",
    "data = np.asarray(uploaded_data)\n",
    "x = data[:,0]\n",
    "y = data[:,1]\n"
   ]
  },
  {
   "cell_type": "code",
   "execution_count": 58,
   "metadata": {
    "collapsed": true
   },
   "outputs": [],
   "source": [
    "theta0, theta1 = simple_linear_regression(x,y)\n",
    "pred = theta0 + theta1*x"
   ]
  },
  {
   "cell_type": "code",
   "execution_count": 59,
   "metadata": {
    "collapsed": true
   },
   "outputs": [],
   "source": [
    "reg_trace = go.Scatter(\n",
    "    x=x,\n",
    "    y=pred,\n",
    "    mode='lines',\n",
    "    name='Linear regression'\n",
    ")\n"
   ]
  },
  {
   "cell_type": "code",
   "execution_count": 60,
   "metadata": {
    "collapsed": true
   },
   "outputs": [],
   "source": [
    "data_trace = go.Scatter(\n",
    "    x=x,\n",
    "    y=y,\n",
    "    mode='markers',\n",
    "    name='Input data'\n",
    ")\n"
   ]
  },
  {
   "cell_type": "code",
   "execution_count": 61,
   "metadata": {
    "collapsed": true
   },
   "outputs": [],
   "source": [
    "rmse = np.sqrt(np.mean((pred-y)**2))\n"
   ]
  },
  {
   "cell_type": "code",
   "execution_count": 62,
   "metadata": {
    "collapsed": true
   },
   "outputs": [
    {
     "data": {
      "text/markdown": [
       "Root-Mean Square Error = 5.338079013239706"
      ],
      "text/plain": [
       "<IPython.core.display.Markdown object>"
      ]
     },
     "metadata": {},
     "output_type": "display_data"
    }
   ],
   "source": [
    "md(\"Root-Mean Square Error = %r\"%(rmse))"
   ]
  },
  {
   "cell_type": "code",
   "execution_count": 63,
   "metadata": {
    "collapsed": true
   },
   "outputs": [
    {
     "data": {
      "text/html": [
       "<div id=\"4b75778d-45f8-4cd6-959d-0c550aa221c2\" style=\"height: 525px; width: 100%;\" class=\"plotly-graph-div\"></div><script type=\"text/javascript\">require([\"plotly\"], function(Plotly) { window.PLOTLYENV=window.PLOTLYENV || {};window.PLOTLYENV.BASE_URL=\"https://plot.ly\";Plotly.newPlot(\"4b75778d-45f8-4cd6-959d-0c550aa221c2\", [{\"mode\": \"markers\", \"name\": \"Input data\", \"x\": [5.1, 3.2, 8.5, 3.5, 1.5, 9.2, 5.5, 8.3, 2.7, 7.7, 5.9, 4.5, 3.3, 1.1, 8.9, 2.5, 1.9, 6.1, 7.4, 2.7, 4.8, 3.8, 6.9, 7.8], \"y\": [47.0, 27.0, 75.0, 30.0, 20.0, 88.0, 60.0, 81.0, 25.0, 85.0, 62.0, 41.0, 42.0, 17.0, 95.0, 30.0, 24.0, 67.0, 69.0, 30.0, 54.0, 35.0, 76.0, 86.0], \"type\": \"scatter\", \"uid\": \"2d183d2a-fc81-499e-bbf6-fbde7c9394b0\"}, {\"mode\": \"lines\", \"name\": \"Linear regression\", \"x\": [5.1, 3.2, 8.5, 3.5, 1.5, 9.2, 5.5, 8.3, 2.7, 7.7, 5.9, 4.5, 3.3, 1.1, 8.9, 2.5, 1.9, 6.1, 7.4, 2.7, 4.8, 3.8, 6.9, 7.8], \"y\": [52.58883375819373, 34.21588219227968, 85.46674708667152, 37.116874544792424, 17.776925528040785, 92.23572924253459, 56.45682356154406, 83.53275218499637, 29.380894938091767, 77.73076747997086, 60.32481336489439, 46.78684905316824, 35.18287964311726, 13.908935724690457, 89.33473689002184, 27.4469000364166, 21.64491533139111, 62.25880826656955, 74.82977512745812, 29.380894938091767, 49.687841405680985, 40.01786689730517, 69.99478787327021, 78.69776493080845], \"type\": \"scatter\", \"uid\": \"ab904e58-a35a-4eba-8f2d-f6150c6dcf89\"}], {}, {\"showLink\": true, \"linkText\": \"Export to plot.ly\"})});</script><script type=\"text/javascript\">window.addEventListener(\"resize\", function(){Plotly.Plots.resize(document.getElementById(\"4b75778d-45f8-4cd6-959d-0c550aa221c2\"));});</script>"
      ],
      "text/plain": [
       "<div id=\"4b75778d-45f8-4cd6-959d-0c550aa221c2\" style=\"height: 525px; width: 100%;\" class=\"plotly-graph-div\"></div><script type=\"text/javascript\">require([\"plotly\"], function(Plotly) { window.PLOTLYENV=window.PLOTLYENV || {};window.PLOTLYENV.BASE_URL=\"https://plot.ly\";Plotly.newPlot(\"4b75778d-45f8-4cd6-959d-0c550aa221c2\", [{\"mode\": \"markers\", \"name\": \"Input data\", \"x\": [5.1, 3.2, 8.5, 3.5, 1.5, 9.2, 5.5, 8.3, 2.7, 7.7, 5.9, 4.5, 3.3, 1.1, 8.9, 2.5, 1.9, 6.1, 7.4, 2.7, 4.8, 3.8, 6.9, 7.8], \"y\": [47.0, 27.0, 75.0, 30.0, 20.0, 88.0, 60.0, 81.0, 25.0, 85.0, 62.0, 41.0, 42.0, 17.0, 95.0, 30.0, 24.0, 67.0, 69.0, 30.0, 54.0, 35.0, 76.0, 86.0], \"type\": \"scatter\", \"uid\": \"2d183d2a-fc81-499e-bbf6-fbde7c9394b0\"}, {\"mode\": \"lines\", \"name\": \"Linear regression\", \"x\": [5.1, 3.2, 8.5, 3.5, 1.5, 9.2, 5.5, 8.3, 2.7, 7.7, 5.9, 4.5, 3.3, 1.1, 8.9, 2.5, 1.9, 6.1, 7.4, 2.7, 4.8, 3.8, 6.9, 7.8], \"y\": [52.58883375819373, 34.21588219227968, 85.46674708667152, 37.116874544792424, 17.776925528040785, 92.23572924253459, 56.45682356154406, 83.53275218499637, 29.380894938091767, 77.73076747997086, 60.32481336489439, 46.78684905316824, 35.18287964311726, 13.908935724690457, 89.33473689002184, 27.4469000364166, 21.64491533139111, 62.25880826656955, 74.82977512745812, 29.380894938091767, 49.687841405680985, 40.01786689730517, 69.99478787327021, 78.69776493080845], \"type\": \"scatter\", \"uid\": \"ab904e58-a35a-4eba-8f2d-f6150c6dcf89\"}], {}, {\"showLink\": true, \"linkText\": \"Export to plot.ly\"})});</script><script type=\"text/javascript\">window.addEventListener(\"resize\", function(){Plotly.Plots.resize(document.getElementById(\"4b75778d-45f8-4cd6-959d-0c550aa221c2\"));});</script>"
      ]
     },
     "execution_count": 0,
     "metadata": {},
     "output_type": "execute_result"
    }
   ],
   "source": [
    "fig = go.Figure(data=[data_trace, reg_trace])\n",
    "iplot(fig)\n"
   ]
  },
  {
   "cell_type": "code",
   "execution_count": null,
   "metadata": {},
   "outputs": [],
   "source": []
  }
 ],
 "metadata": {
  "kernelspec": {
   "display_name": "Python 2",
   "language": "python",
   "name": "python2"
  },
  "language_info": {
   "codemirror_mode": {
    "name": "ipython",
    "version": 2
   },
   "file_extension": ".py",
   "mimetype": "text/x-python",
   "name": "python",
   "nbconvert_exporter": "python",
   "pygments_lexer": "ipython2",
   "version": "2.7.6"
  }
 },
 "nbformat": 4,
 "nbformat_minor": 0
}
